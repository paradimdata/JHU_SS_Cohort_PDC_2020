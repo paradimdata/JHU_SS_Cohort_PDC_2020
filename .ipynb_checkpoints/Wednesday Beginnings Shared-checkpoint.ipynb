{
 "cells": [
  {
   "cell_type": "markdown",
   "metadata": {},
   "source": [
    "# Introduction to JARVIS"
   ]
  },
  {
   "cell_type": "markdown",
   "metadata": {},
   "source": [
    "What is JARVIS?  The Joint Automated Repository for Various Integrated Simulations... or maybe you have a better idea to bacronym it?  Check out the project here: https://www.ctcms.nist.gov/~knc6/JARVIS.html"
   ]
  },
  {
   "cell_type": "markdown",
   "metadata": {},
   "source": [
    "1. someone should write something here explaining what it is and what this notebook is about...\n",
    "2  someone should write something here explaining what data Jarvis provides\n",
    "3.  someone should write something here providing references\n",
    "4.  someone should debug my markdown 'cause this list isn't numbered correctly!"
   ]
  },
  {
   "cell_type": "markdown",
   "metadata": {},
   "source": [
    "### Tasks:\n",
    "1. Set up necessary software tools.  In this case that means make sure jarvis-tools is installed or install with pip (pip install jarvis-tools)\n",
    "2. get a dataset from https://figshare.com/articles/JARVIS_DFT_Data/7261832, how do you do that? What format is the data in?  Hint:  \"JSON\", but what the heck is JSON and why is the data in JSON? Oh yeah, and how do you read JSON into memory to work with the data?"
   ]
  },
  {
   "cell_type": "code",
   "execution_count": null,
   "metadata": {},
   "outputs": [],
   "source": [
    "# import the dataset with Jarvis:\n",
    "from jarvis.db.figshare import data"
   ]
  },
  {
   "cell_type": "code",
   "execution_count": null,
   "metadata": {},
   "outputs": [],
   "source": [
    "dft_3d = data('dft_3d')\n",
    "dft_2d = data('dft_2d')"
   ]
  },
  {
   "cell_type": "markdown",
   "metadata": {},
   "source": [
    "#### Investigate the dataset\n",
    "1. How big it is?\n",
    "2. How can we see some of the data?\n",
    "3. How can you do this with Python in this notebook? Maybe print the length of the data list/array?"
   ]
  },
  {
   "cell_type": "code",
   "execution_count": null,
   "metadata": {},
   "outputs": [],
   "source": [
    "# data-size\n",
    "print (len(dft_3d),len(dft_2d))"
   ]
  },
  {
   "cell_type": "markdown",
   "metadata": {},
   "source": [
    "#### To see the data it would be convenient to have it in a table.  \n",
    "Pandas has awesome dataframes which look like tables. Try importing the data into a pandas dataframe.  If it even in the right format for a pandas dataframe?  How would you know?  Hint... just try it!"
   ]
  },
  {
   "cell_type": "markdown",
   "metadata": {},
   "source": [
    "##### Generally, to use a python module you have to first import it.  Importing checks that it is available and loads it into the local scope. Pandas and numpy are modules we want to use so the first step is to import them and the second step is to use them.   "
   ]
  },
  {
   "cell_type": "code",
   "execution_count": null,
   "metadata": {},
   "outputs": [],
   "source": [
    "# It's standard to call pandas \"pd\" and numpy \"np\" to cut down on typing:\n",
    "\n",
    "import pandas as pd\n",
    "import numpy as np\n",
    "\n",
    "# now we can load the 3D data into a dataframe that we'll namne \"df\"\n",
    "df=pd.DataFrame(dft_3d)"
   ]
  },
  {
   "cell_type": "markdown",
   "metadata": {},
   "source": [
    "##### Jupyter is clever and lets you look at the dataframe by just typing it's name.  Notice that it makes some choices about how it prints it out.  Notice anything interesting about the data?"
   ]
  },
  {
   "cell_type": "code",
   "execution_count": null,
   "metadata": {},
   "outputs": [],
   "source": [
    "df"
   ]
  },
  {
   "cell_type": "markdown",
   "metadata": {},
   "source": [
    "### How can you visualize some of the materials properties in the dataset?\n",
    "If you want to look at the variation or range of values you could use matplotlib to make histograms.  How do you even know what the properites are in that dataset?  Hint: The dataframe has labels on the columns... how can you print them out? "
   ]
  },
  {
   "cell_type": "code",
   "execution_count": null,
   "metadata": {},
   "outputs": [],
   "source": [
    "# Keys in the json file\n",
    "print (df.columns, len(df.columns))"
   ]
  },
  {
   "cell_type": "markdown",
   "metadata": {},
   "source": [
    "#### OK... 39 properties.  Start with any one and make a histogram."
   ]
  },
  {
   "cell_type": "code",
   "execution_count": null,
   "metadata": {},
   "outputs": [],
   "source": [
    "import matplotlib\n",
    "%matplotlib inline\n",
    "import matplotlib.pyplot as plt\n",
    "\n",
    "val=np.array(df['formation_energy_peratom'],dtype='float')\n",
    "plt.hist(val,bins=np.arange(-4,3,.1))\n",
    "plt.xlabel('Formation enrgies (eV/atom)')\n",
    "plt.ylabel('Materials distribution')"
   ]
  },
  {
   "cell_type": "code",
   "execution_count": null,
   "metadata": {},
   "outputs": [],
   "source": [
    "import matplotlib\n",
    "%matplotlib inline\n",
    "import matplotlib.pyplot as plt\n",
    "\n",
    "val=np.array(df['formation_energy_peratom'].replace('na',np.nan).dropna().values,dtype='float')\n",
    "plt.hist(val,bins=np.arange(-4,3,.1))\n",
    "plt.xlabel('Formation enrgies (eV/atom)')\n",
    "plt.ylabel('Materials distribution')"
   ]
  },
  {
   "cell_type": "code",
   "execution_count": null,
   "metadata": {},
   "outputs": [],
   "source": [
    "import matplotlib\n",
    "%matplotlib inline\n",
    "import matplotlib.pyplot as plt\n",
    "from matplotlib.gridspec import GridSpec\n",
    "\n",
    "the_grid = GridSpec(4, 3)\n",
    "plt.rcParams.update({'font.size': 18})\n",
    "plt.figure(figsize=(16,14))\n",
    "\n",
    "plt.subplot(the_grid[0, 0])\n",
    "val=np.array(df['formation_energy_peratom'].replace('na',np.nan).dropna().values,dtype='float')\n",
    "plt.hist(val,bins=np.arange(-4,3,.1))\n",
    "plt.xlabel('Formation enrgies (eV/atom)')\n",
    "plt.ylabel('Materials distribution')"
   ]
  },
  {
   "cell_type": "code",
   "execution_count": null,
   "metadata": {},
   "outputs": [],
   "source": [
    "val=np.array(df['mbj_bandgap'].replace('na',np.nan).dropna().values,dtype='float')\n",
    "plt.hist(val,bins=np.arange(0,8,.1))\n",
    "plt.xlabel('TBmBJ bandgaps (eV)')"
   ]
  },
  {
   "cell_type": "code",
   "execution_count": null,
   "metadata": {},
   "outputs": [],
   "source": [
    "# Now let's make a histogram for some of the material-properties in the dataset\n",
    "\n",
    "from matplotlib.gridspec import GridSpec\n",
    "\n",
    "the_grid = GridSpec(4, 3)\n",
    "plt.rcParams.update({'font.size': 18})\n",
    "plt.figure(figsize=(16,14))\n",
    "\n",
    "plt.subplot(the_grid[0, 0])\n",
    "val=np.array(df['formation_energy_peratom'].replace('na',np.nan).dropna().values,dtype='float')\n",
    "plt.hist(val,bins=np.arange(-4,3,.1))\n",
    "plt.xlabel('Formation enrgies (eV/atom)')\n",
    "plt.ylabel('Materials distribution')\n",
    "\n",
    "plt.subplot(the_grid[0, 1])\n",
    "val=np.array(df['optb88vdw_bandgap'].replace('na',np.nan).dropna().values,dtype='float')\n",
    "plt.hist(val,bins=np.arange(0,8,.1))\n",
    "plt.xlabel('OptB88vdW bandgaps (eV)')\n",
    "#plt.ylabel('Materials distribution')\n",
    "\n",
    "#plt.subplot(the_grid[0, 2])\n",
    "#val=np.array(df['mbj_bandgap'].replace('na',np.nan).dropna().values,dtype='float')\n",
    "#lt.hist(val,bins=np.arange(0,8,.1))\n",
    "#plt.xlabel('TBmBJ bandgaps (eV)')\n",
    "#plt.ylabel('Materials distribution')\n",
    "\n",
    "plt.subplot(the_grid[1, 0])\n",
    "val=np.array(df['bulk_modulus_kv'].replace('na',np.nan).dropna().values,dtype='float')\n",
    "plt.hist(val,bins=np.arange(0,250,10))\n",
    "plt.xlabel('Voigt-bulk modulus (GPa)')\n",
    "#plt.ylabel('Materials distribution')\n",
    "\n",
    "\n",
    "plt.subplot(the_grid[1, 1])\n",
    "val=np.array(df['spillage'].replace('na',np.nan).dropna().values,dtype='float')\n",
    "plt.hist(val,bins=np.arange(0,4,.1))\n",
    "plt.xlabel('Spin-orbit spillage')\n",
    "#plt.ylabel('Materials distribution')\n",
    "\n",
    "plt.subplot(the_grid[1, 2])\n",
    "val=np.array(df['slme'].replace('na',np.nan).dropna().values,dtype='float')\n",
    "plt.hist(val,bins=np.arange(0,35,1))\n",
    "plt.xlabel('Solar-SLME (%)')\n",
    "#plt.ylabel('Materials distribution')\n",
    "\n",
    "\n",
    "plt.subplot(the_grid[2, 0])\n",
    "val=np.array(df['dfpt_piezo_max_dielectric'].replace('na',np.nan).dropna().values,dtype='float')\n",
    "plt.hist(val,bins=np.arange(0,50,2))\n",
    "#plt.ylabel('Materials distribution')\n",
    "plt.xlabel('Max.Piezo.coeff(C/m2)')\n",
    "\n",
    "\n",
    "plt.subplot(the_grid[2, 1])\n",
    "val=np.array(df['n-powerfact'].replace('na',np.nan).dropna().values,dtype='float')\n",
    "plt.hist(val,bins=np.arange(0,4000,50))\n",
    "#plt.ylabel('Materials distribution')\n",
    "plt.xlabel('n-Power factor (muW/(mK)2)')\n",
    "\n",
    "plt.subplot(the_grid[2, 2])\n",
    "val=np.array(df['n-Seebeck'].replace('na',np.nan).dropna().values,dtype='float')\n",
    "plt.hist(val,bins=np.arange(-600,0,50))\n",
    "#plt.ylabel('Materials distribution')\n",
    "plt.xlabel('n-Seebeck coeff (muV/K)')\n",
    "\n",
    "\n",
    "plt.subplot(the_grid[3, 0])\n",
    "val=np.array(df['magmom_oszicar'].replace('na',np.nan).dropna().values,dtype='float')\n",
    "plt.hist(val,bins=np.arange(0,20,1))\n",
    "#plt.ylabel('Materials distribution')\n",
    "plt.xlabel('Mag.mom (muB)')\n",
    "\n",
    "\n",
    "plt.subplot(the_grid[3, 1])\n",
    "val=np.array(df['encut'].replace('na',np.nan).dropna().values,dtype='float')\n",
    "plt.hist(val,bins=np.arange(400,1500,50))\n",
    "#plt.ylabel('Materials distribution')\n",
    "plt.xlabel('ENCUT (eV)')\n",
    "\n",
    "\n",
    "\n",
    "plt.subplot(the_grid[3, 2])\n",
    "val=np.sqrt(np.array(df['epsx'].replace('na',np.nan).dropna().values,dtype='float'))\n",
    "plt.hist(val,bins=np.arange(0,25,1))\n",
    "#plt.ylabel('Materials distribution')\n",
    "plt.xlabel('OptB88vdW Refractive index-x')\n",
    "\n",
    "plt.tight_layout()"
   ]
  },
  {
   "cell_type": "markdown",
   "metadata": {},
   "source": [
    "#### You can of course use matplotlib to do some comparisons. \n",
    "Like what's with the difference between the different bandgaps?  How can you compare them? "
   ]
  },
  {
   "cell_type": "code",
   "execution_count": null,
   "metadata": {},
   "outputs": [],
   "source": [
    "# Compare OptB88vdW and TBmBJ bandgaps\n",
    "df2=df[['optb88vdw_bandgap','mbj_bandgap']].replace('na',np.nan).dropna()\n",
    "plt.plot(df2['mbj_bandgap'], df2['optb88vdw_bandgap'],'.')\n",
    "plt.plot(df2['mbj_bandgap'], df2['mbj_bandgap'])\n",
    "plt.xlim([0,10])\n",
    "plt.ylim([0,10])\n",
    "plt.xlabel('TBmBJ gap (eV)')\n",
    "plt.ylabel('OptB88vdW gap (eV)')\n",
    "plt.tight_layout()\n",
    "print ('Number of materials with both OptB88vdW bandgaps', len(df['optb88vdw_bandgap']))\n",
    "print ('Number of materials with both TBmBJ abd OptB88vdW bandgaps', len(df2['mbj_bandgap']))"
   ]
  },
  {
   "cell_type": "markdown",
   "metadata": {},
   "source": [
    "#### How can you sift through the data and find something particular.  What does the following example do? Let's find materials which has "
   ]
  },
  {
   "cell_type": "code",
   "execution_count": null,
   "metadata": {},
   "outputs": [],
   "source": [
    "# clean the data a bit:\n",
    "df3 = df[['optb88vdw_bandgap','spillage', 'ehull', 'slme', 'atoms', 'jid']].replace('na',np.nan).dropna()"
   ]
  },
  {
   "cell_type": "code",
   "execution_count": null,
   "metadata": {},
   "outputs": [],
   "source": [
    "from jarvis.core.atoms import Atoms\n",
    "def has_element(atoms_dict = {}, my_element = 'Bi'):\n",
    "    atoms = Atoms.from_dict(atoms_dict)\n",
    "    elements = atoms.elements\n",
    "    if my_element in elements:\n",
    "        return True\n",
    "    else:\n",
    "        return np.nan\n",
    "    \n",
    "df3['el'] = df3['atoms'].apply(lambda x: has_element(atoms_dict = x, my_element = 'Bi'))\n",
    "df3['formula'] = df3['atoms'].apply(lambda x: Atoms.from_dict(x).composition.reduced_formula)"
   ]
  },
  {
   "cell_type": "code",
   "execution_count": null,
   "metadata": {},
   "outputs": [],
   "source": [
    "df4 = df3.dropna()"
   ]
  },
  {
   "cell_type": "code",
   "execution_count": null,
   "metadata": {},
   "outputs": [],
   "source": [
    "df4[(df4['optb88vdw_bandgap'] >= .1) & (df4['spillage'] >=.5 ) & (df4['ehull'] <=.1 ) & (df4['slme'] >=5 )  ]"
   ]
  },
  {
   "cell_type": "code",
   "execution_count": null,
   "metadata": {},
   "outputs": [],
   "source": []
  }
 ],
 "metadata": {
  "kernelspec": {
   "display_name": "Python 3",
   "language": "python",
   "name": "python3"
  },
  "language_info": {
   "codemirror_mode": {
    "name": "ipython",
    "version": 3
   },
   "file_extension": ".py",
   "mimetype": "text/x-python",
   "name": "python",
   "nbconvert_exporter": "python",
   "pygments_lexer": "ipython3",
   "version": "3.6.6"
  }
 },
 "nbformat": 4,
 "nbformat_minor": 2
}
